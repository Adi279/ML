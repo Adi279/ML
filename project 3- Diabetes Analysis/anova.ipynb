{
  "nbformat": 4,
  "nbformat_minor": 0,
  "metadata": {
    "colab": {
      "provenance": []
    },
    "kernelspec": {
      "name": "python3",
      "display_name": "Python 3"
    },
    "language_info": {
      "name": "python"
    }
  },
  "cells": [
    {
      "cell_type": "code",
      "source": [
        "import pandas as pd\n",
        "import numpy as np\n",
        "import matplotlib.pyplot as plt\n",
        "import seaborn as sns\n",
        "import plotly.express as px\n",
        "import plotly.graph_objects as go\n",
        "import os\n",
        "df=pd.read_csv('diabetes_binary_5050split_health_indicators_BRFSS2015.csv')\n"
      ],
      "metadata": {
        "id": "dJsXCS-oGE5C"
      },
      "execution_count": null,
      "outputs": []
    },
    {
      "cell_type": "code",
      "execution_count": null,
      "metadata": {
        "id": "7p2XgnsO_SbS"
      },
      "outputs": [],
      "source": [
        "import statsmodels.api as sm\n",
        "from statsmodels.formula.api import ols\n",
        "from scipy.stats import f_oneway\n"
      ]
    },
    {
      "cell_type": "code",
      "source": [
        "model=ols('HighBP ~ C(Diabetes_binary)', data=df).fit()\n",
        "anova_table=sm.stats.anova_lm(model, typ=2)\n",
        "print(anova_table)\n",
        "\n",
        "alpha=0.05\n",
        "if anova_table['PR(>F)']['C(Diabetes_binary)']<alpha:\n",
        "    print('Reject null hypothesis: there are significant changes in high blood pressure(HighBP) between indivisuals with and without diabetes')\n",
        "else:\n",
        "    print('Fail to reject null hypothesis: there are no significant differences in high blood pressure between indivisuals with and without diabetes')\n",
        "\n",
        "sqft_living_no_waterfront=df[df['Diabetes_binary']==0]['HighBP']\n",
        "sqft_living_waterfront=df[df['Diabetes_binary']==1]['HighBP']\n",
        "\n",
        "f_statistic, p_value=f_oneway(sqft_living_no_waterfront, sqft_living_waterfront)\n",
        "print('F-statistic:', f_statistic)\n",
        "print('P-value:', p_value)\n",
        "\n",
        "alpha=0.05\n",
        "if p_value<alpha:\n",
        "    print('Reject null hypothesis: there are significant differences in high blood pressure between indivisuals with and without diabetes')\n",
        "else:\n",
        "    print('Fail to reject null hypothesis: there are no significant differences in high blood pressure between indivisuals with and without diabetes')"
      ],
      "metadata": {
        "colab": {
          "base_uri": "https://localhost:8080/"
        },
        "id": "nbbLeCp4Hfu-",
        "outputId": "4f1cd19f-4504-4594-ab48-b91ff03420a7"
      },
      "execution_count": null,
      "outputs": [
        {
          "output_type": "stream",
          "name": "stdout",
          "text": [
            "                          sum_sq       df             F  PR(>F)\n",
            "C(Diabetes_binary)   2530.942341      1.0  12041.980062     0.0\n",
            "Residual            14857.383353  70690.0           NaN     NaN\n",
            "Reject null hypothesis: there are significant changes in high blood pressure(HighBP) between indivisuals with and without diabetes\n",
            "F-statistic: 12041.980062225079\n",
            "P-value: 0.0\n",
            "Reject null hypothesis: there are significant differences in high blood pressure between indivisuals with and without diabetes\n"
          ]
        }
      ]
    }
  ]
}